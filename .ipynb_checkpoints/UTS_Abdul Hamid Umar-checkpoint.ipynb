{
 "cells": [
  {
   "cell_type": "markdown",
   "metadata": {},
   "source": [
    "# UTS Pembelajaran Mesin (Ilmu Komputer Kelas A, B dan IUP) 2019/2020\n",
    "## Tanggal Pengumpulan: 9 April 2020 jam 6.00\n",
    "## Nama/NIM: Abdul Hamid Umar / 17/411323/PA/17843\n",
    "## Kelas: A\n",
    "## Total Score: 40\n",
    "## Submit pada assignment kelas masing-masing dengan nama file UTS_Nama\n",
    "\n",
    "### Petunjuk soal\n",
    "Lengkapi kode implementasi Neural Network di bawah ini. <br>\n",
    "Perhatikan score untuk tiap bagian kode <br>\n",
    "Sertakan penjelasan singkat (dalam bentuk markdown) untuk tiap function yang ditulis\n"
   ]
  },
  {
   "cell_type": "code",
   "execution_count": 28,
   "metadata": {},
   "outputs": [],
   "source": [
    "# fungsi ini digunakan untuk membaca dataset yang berupa csv file\n",
    "# expected_output: data dalam bentuk list\n",
    "# score: 2\n",
    "\n",
    "from csv import reader\n",
    "def load_csv(filename):\n",
    "    dataset = list()\n",
    "    with open(filename, 'r') as file:\n",
    "        csv_reader = reader(file)\n",
    "        for row in csv_reader:\n",
    "            if not row:\n",
    "                continue\n",
    "            dataset.append(row)\n",
    "        dataset = np.array(dataset)\n",
    "    return dataset"
   ]
  },
  {
   "cell_type": "code",
   "execution_count": 29,
   "metadata": {},
   "outputs": [],
   "source": [
    "# Perhatikan data csv, data yang diberikan masih dalam bentuk string\n",
    "# Buat fungsi untuk meng-convert feature (X) ke dalam float, dan target (Y) ke dalam integer\n",
    "# note: pada dataset yang diberikan, target ada pada kolom terakhir\n",
    "# note: kode boleh dibuat dalam 2 fungsi (seperti contoh di bawah)  atau 1 fungsi saja.\n",
    "# expected_output: matrix X (feature)  dan vector Y (target), \n",
    "# score: 4\n",
    "import numpy as np\n",
    "\n",
    "def str_feature_to_float(dataset):\n",
    "    X = list()\n",
    "    for i in dataset:\n",
    "        xr = [float(x) for x in i[:-1]]\n",
    "        X.append(xr)\n",
    "    return np.array(X)\n",
    "\n",
    "def str_target_to_integer(dataset):\n",
    "    Y = list()\n",
    "    for i in dataset:\n",
    "        yr = int(i[-1])\n",
    "        Y.append(yr)\n",
    "    return np.array(Y)"
   ]
  },
  {
   "cell_type": "code",
   "execution_count": 30,
   "metadata": {},
   "outputs": [],
   "source": [
    "# split data ke train dan test (baik untuk X maupun Y), dengan komposisi training size:80%, test size: 20%\n",
    "# boleh menggunakan fungsi dari scikit learn\n",
    "# expected_output: X_train, X_test, Y_train, Y_test \n",
    "# score: 2\n",
    "from sklearn.model_selection import train_test_split as tts\n",
    "\n",
    "def train_test_split (X, Y):\n",
    "    X_train, X_test, Y_train, Y_test = tts(X,Y, test_size=0.8)\n",
    "    return X_train, X_test, Y_train, Y_test"
   ]
  },
  {
   "cell_type": "code",
   "execution_count": 31,
   "metadata": {},
   "outputs": [],
   "source": [
    "# ubah target (Y_train dan Y_test) ke dalam bentuk representasi one_hot_encoding\n",
    "# hint: gunakan np.eye dari Numpy\n",
    "# expected_output: target dalam bentuk one_hot_encoded\n",
    "# score: 2\n",
    "\n",
    "def one_hot_encoding (target):\n",
    "    onehot = np.eye(np.max(target)+1)[target]\n",
    "    target_encoded = np.delete(onehot, obj=0, axis=1)\n",
    "    return target_encoded"
   ]
  },
  {
   "cell_type": "code",
   "execution_count": 32,
   "metadata": {},
   "outputs": [],
   "source": [
    "# Asumsikan bahwa ada 3 layer pada Neural Network yaitu input layer, hidden layer dan output layer\n",
    "# set n_inputs dengan banyaknya fitur, n_hidden dengan 20 dan n_outputs dengan jumlah kelas\n",
    "# inisialisasi network parameter (Theta_1: parameter dari input ke hidden) \n",
    "# dan (Theta_2: parameter dari hidden ke output) dengan random number\n",
    "# hint: Perhatikan dimensi dari Theta_1 dan Theta_2, jangan lupa ada parameter bias.\n",
    "# expected_output: Theta_1 dan Theta_2 yang sudah diinisialisasi\n",
    "# score: 2\n",
    "\n",
    "from random import seed\n",
    "from random import random\n",
    "seed(1)\n",
    " \n",
    "def initialize_network(n_inputs, n_hidden, n_outputs):\n",
    "    # tuliskan kode anda disini\n",
    "    Theta_1 = np.random.random_sample((n_hidden, n_inputs+1))*np.sqrt(1/n_inputs)\n",
    "    Theta_2 = np.random.random_sample((n_outputs, n_hidden+1))*np.sqrt(1/n_hidden)\n",
    "    return [Theta_1, Theta_2]"
   ]
  },
  {
   "cell_type": "code",
   "execution_count": 33,
   "metadata": {},
   "outputs": [],
   "source": [
    "# Tuliskan fungsi untuk regularized cost function dari Neural Network (J) \n",
    "# Set lambda (regularisation parameter ke 0.8)\n",
    "# expected_output: cost value\n",
    "# score: 2\n",
    "\n",
    "def cost_function(theta, Y_real, Y_pred):\n",
    "    lamb = 0.8\n",
    "    reg = 0\n",
    "    m = len(Y_real)\n",
    "    J = -1/m * np.sum(np.multiply(np.log(Y_pred), Y_real) + np.multiply(np.log(1 - Y_pred), 1 - Y_real))\n",
    "    for i in theta:\n",
    "        reg += (np.sum(i**2)* lamb/(2*m))\n",
    "    J = J + reg\n",
    "    return J\n",
    "\n"
   ]
  },
  {
   "cell_type": "code",
   "execution_count": 34,
   "metadata": {},
   "outputs": [],
   "source": [
    "# Tuliskan fungsi sigmoid\n",
    "# fungsi ini harus bisa menerima input baik berupa matrix, vector maupun scalar \n",
    "# expected_output: sigmoid value (untuk setiap elemen pada matrix/vector) \n",
    "# score: 2\n",
    "\n",
    "def sigmoid_function(z):\n",
    "    z = np.array(z)\n",
    "    sigmoid_value = 1 / (1 + np.exp(-z))\n",
    "    return sigmoid_value #(bisa dalam bentuk matrix/vector/scalar)"
   ]
  },
  {
   "cell_type": "code",
   "execution_count": 35,
   "metadata": {},
   "outputs": [],
   "source": [
    "# Tuliskan fungsi gradient/derivatif dari sigmoid function\n",
    "# fungsi ini harus bisa menerima input baik berupa matrix, vector maupun scalar \n",
    "# expected_output: gradient sigmoid value (untuk setiap elemen pada matrix/vector)\n",
    "# score: 2\n",
    "\n",
    "def gradient_sigmoid_function(z):\n",
    "    z = sigmoid_function(z)\n",
    "    gradient_sigmoid_value = z * (1 - z)\n",
    "    return gradient_sigmoid_value  #(bisa dalam bentuk matrix/vector/scalar)"
   ]
  },
  {
   "cell_type": "code",
   "execution_count": 36,
   "metadata": {},
   "outputs": [],
   "source": [
    "# Tuliskan fungsi forward propagation\n",
    "# expected_output: a(2) output dari hidden layer dan a(3) output dari output layer\n",
    "# hint: lihat slide NN part 1 mengenai forward propagation untuk detail cara menghitungnya\n",
    "# note: pada layer 1 (input) dan layer 2 (hidden layer) terdapat bias yang nilainya di set sama dengan 1\n",
    "# score: 4\n",
    "def forward_propagation(theta, x):\n",
    "    bias = [np.ones((1,1), dtype=np.float64) for i in range(len(theta))]\n",
    "    vect = np.reshape(x, (len(x), 1))\n",
    "    a = []\n",
    "    for i in range(len(bias)):\n",
    "        vect = np.append(bias[i], vect, axis=0)\n",
    "        a.append(vect)\n",
    "        vect = np.matmul(theta[i], vect)\n",
    "        vect = sigmoid_function(vect)\n",
    "    a.append(vect)\n",
    "    return a"
   ]
  },
  {
   "cell_type": "code",
   "execution_count": 37,
   "metadata": {},
   "outputs": [],
   "source": [
    "# Tuliskan fungsi back propagation untuk menghitung eror dan update parameter dengan algoritma gradient descent\n",
    "# expected_output: parameter update\n",
    "# hint: lihat slide NN part 2 mengenai back propagation untuk detail cara menghitungnya\n",
    "# note: parameter bias tidak termasuk yang dikenai regularisasi\n",
    "# note: parameter harus di update secara simultan (ingat lagi dibagian gradient descent)\n",
    "# score: 4\n",
    "\n",
    "def back_propagation(theta, big_delta, a, y):\n",
    "    layer = len(a)\n",
    "    y = np.reshape(y, (len(y), 1))\n",
    "    a = a[::-1]\n",
    "    theta = theta[::-1]\n",
    "    \n",
    "    delta = a[0] - y\n",
    "    error = []\n",
    "    error.append(delta)\n",
    "    for k in range(1, layer-1):\n",
    "        delta = np.matmul(np.transpose(theta[k-1]), error[k-1]) * gradient_sigmoid_function(a[k])\n",
    "        delta = np.delete(delta, obj=0, axis=0)\n",
    "        error.append(delta)\n",
    "    error = error[::-1]\n",
    "    a = a[::-1]\n",
    "    \n",
    "    nb_delta = []\n",
    "    for k in range(len(error)):\n",
    "        delta = np.matmul(error[k], np.transpose(a[k]))\n",
    "        nb_delta.append(big_delta[k] + delta)\n",
    "    return nb_delta"
   ]
  },
  {
   "cell_type": "code",
   "execution_count": 38,
   "metadata": {},
   "outputs": [],
   "source": [
    "# Tuliskan kode (tidak harus dalam bentuk fungsi) untuk melakukan training terhadap NN\n",
    "# expected_output: parameter Theta_1 dan Theta_2 yang telah ditraining/update sebanyak 100 kali iterasi\n",
    "# note: Theta_1 dan Theta_2 merupakan matrix\n",
    "# score: 4\n",
    "datas = load_csv('exam_data.csv')\n",
    "X = str_feature_to_float(datas)\n",
    "Y = str_target_to_integer(datas)\n",
    "\n",
    "X_train, X_test, Y_train, Y_test = train_test_split(X,Y)\n",
    "\n",
    "Y_test = one_hot_encoding(Y_test)\n",
    "Y_train = one_hot_encoding(Y_train)\n",
    "\n",
    "learning_rate = 0.001\n",
    "epoch = 100\n",
    "Theta = initialize_network(X_train[0].size, 20, Y_train[0].size)\n",
    "# print(X_train[0])\n",
    "# print(Theta)\n",
    "m = X_train.shape[0]\n",
    "big_delta = [[] for _ in range(len(Theta))]\n",
    "\n",
    "Js = []\n",
    "for i in range(len(Theta)):\n",
    "    big_delta[i] = np.zeros(Theta[i].shape)\n",
    "for i in range (100):\n",
    "    prediction = []\n",
    "    for j in range(m):\n",
    "        n_theta = []\n",
    "        a = forward_propagation(Theta, X_train[j])\n",
    "        prediction.append(a[-1].flatten())\n",
    "        n_bdelta = back_propagation(Theta, big_delta, a, Y_train[j])\n",
    "        big_delta = n_bdelta[:]\n",
    "        for k in range(len(Theta)):\n",
    "            theta_nb = np.delete(Theta[k],obj=0,axis=1)\n",
    "            zeroes = np.zeros((Theta[k].shape[0], 1), dtype=np.float64)\n",
    "            theta_nb = np.append(zeroes, theta_nb, axis=1)\n",
    "            deriv_J = (0.8 * theta_nb) + (big_delta[k]/m)\n",
    "            n_theta.append(Theta[k] - (learning_rate * deriv_J))\n",
    "        Theta = n_theta[:]\n",
    "    J = cost_function(Theta, Y_train, np.array(prediction))\n",
    "    Js.append(J)"
   ]
  },
  {
   "cell_type": "code",
   "execution_count": 39,
   "metadata": {},
   "outputs": [
    {
     "data": {
      "text/plain": [
       "0.0"
      ]
     },
     "execution_count": 39,
     "metadata": {},
     "output_type": "execute_result"
    }
   ],
   "source": [
    "# Evaluasi/testing dengan melakukan prediksi pada data test\n",
    "# hint: untuk melakukan prediksi, gunakan fungsi forward_propagation dengan parameter Theta_1 dan Theta_2 \n",
    "# yang telah diperoleh dari training, jangan lupa target berupa one hot encoded, probability yang dihasilkan \n",
    "# dari layer output dibulatkan (round), jika >= 0.5 ke 1 dan jika < 0.5 ke 0\n",
    "# tuliskan fungsi untuk menghitung akurasi (total prediksi benar dibagi total data)\n",
    "# expected_output: akurasi\n",
    "# score: 4\n",
    "\n",
    "def calculate_accuracy(test_input, test_target):\n",
    "    correct = 0\n",
    "    n = len(test_input[0])\n",
    "    for k in range(n):\n",
    "        a = forward_propagation(Theta, test_input[k])\n",
    "        a = np.where(a[-1].flatten() >= 0.5, 1, 0)\n",
    "        if np.sum(np.abs(a - test_target[k])) == 0:\n",
    "            correct += 1\n",
    "    accuracy = correct / n\n",
    "    return accuracy\n",
    "\n",
    "calculate_accuracy(X_test, Y_test)"
   ]
  },
  {
   "cell_type": "code",
   "execution_count": 40,
   "metadata": {},
   "outputs": [],
   "source": [
    "# plot cost function value untuk tiap iterasi/epoch pada step training dengan menggunakan matplotlib, \n",
    "# dan buat analisis singkat apakah model NN yang didevelop \n",
    "# sudah baik atau masih perlu modifikasi/improvement.\n",
    "# score: 6\n",
    "import matplotlib.pyplot as plt\n",
    "from matplotlib import pyplot\n",
    "\n",
    "def plotHistory(x, y, label_X, label_Y, radius):\n",
    "    fig = pyplot.figure()\n",
    "    pyplot.plot(x, y)\n",
    "    pyplot.xlabel(label_X)\n",
    "    pyplot.ylabel(label_Y)\n",
    "    pyplot.show()"
   ]
  },
  {
   "cell_type": "code",
   "execution_count": 41,
   "metadata": {},
   "outputs": [
    {
     "data": {
      "image/png": "[encoded data removed]",
      "text/plain": [
       "<Figure size 432x288 with 1 Axes>"
      ]
     },
     "metadata": {
      "needs_background": "light"
     },
     "output_type": "display_data"
    }
   ],
   "source": [
    "it = [i+1 for i in range(epoch)]\n",
    "plotHistory(it, Js, 'epoch', 'Cost', 1)"
   ]
  },
  {
   "cell_type": "markdown",
   "metadata": {},
   "source": [
    "Model NN yang dibuat memiliki akurasi sekitar 71.4%. Oleh karena itu, model NN masih dapat dimodifikasi agar tingkat akurasinya semakin tinggi. Modifikasi dapat berupa penggantian metode inisialisasi network, algoritma back propagation, dan algoritma cost function."
   ]
  }
 ],
 "metadata": {
  "kernelspec": {
   "display_name": "Python 3",
   "language": "python",
   "name": "python3"
  },
  "language_info": {
   "codemirror_mode": {
    "name": "ipython",
    "version": 3
   },
   "file_extension": ".py",
   "mimetype": "text/x-python",
   "name": "python",
   "nbconvert_exporter": "python",
   "pygments_lexer": "ipython3",
   "version": "3.7.3"
  }
 },
 "nbformat": 4,
 "nbformat_minor": 2
}
