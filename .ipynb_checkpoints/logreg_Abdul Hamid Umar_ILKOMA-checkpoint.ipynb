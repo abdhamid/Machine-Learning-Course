{
 "cells": [
  {
   "cell_type": "markdown",
   "metadata": {},
   "source": [
    "## Logistic Regression"
   ]
  },
  {
   "cell_type": "code",
   "execution_count": 1,
   "metadata": {},
   "outputs": [],
   "source": [
    "import sys\n",
    "import numpy\n",
    "import pandas\n",
    "import matplotlib.pyplot as plt\n",
    "import numpy as np\n",
    "from sklearn import datasets\n",
    "from sklearn.model_selection import train_test_split"
   ]
  },
  {
   "cell_type": "code",
   "execution_count": 2,
   "metadata": {},
   "outputs": [
    {
     "name": "stdout",
     "output_type": "stream",
     "text": [
      "[2.6 2.7 2.8 3.  3.1 3.5 3.8 5.2 5.4 5.7 5.8 5.9 6.  6.1 6.4]\n"
     ]
    }
   ],
   "source": [
    "iris = datasets.load_iris()\n",
    "X = iris.data[:, :2]  # we only take the first two features.\n",
    "y = iris.target\n",
    "X_train,X_test,y_train,y_test = train_test_split(X, y, test_size=0.2, random_state=0)\n",
    "print(np.unique(X_train[0:10,:]))"
   ]
  },
  {
   "cell_type": "code",
   "execution_count": 4,
   "metadata": {},
   "outputs": [
    {
     "data": {
      "image/png": "[encoded data removed]",
      "text/plain": [
       "<Figure size 360x288 with 2 Axes>"
      ]
     },
     "metadata": {
      "needs_background": "light"
     },
     "output_type": "display_data"
    }
   ],
   "source": [
    "x_index = 0\n",
    "y_index = 1\n",
    "\n",
    "# this formatter will label the colorbar with the correct target names\n",
    "formatter = plt.FuncFormatter(lambda i, *args: iris.target_names[int(i)])\n",
    "\n",
    "plt.figure(figsize=(5, 4))\n",
    "plt.scatter(X_train[:, x_index], X_train[:, y_index], c=y_train)\n",
    "plt.colorbar(ticks=[0, 1, 2], format=formatter)\n",
    "plt.xlabel(iris.feature_names[x_index])\n",
    "plt.ylabel(iris.feature_names[y_index])\n",
    "\n",
    "plt.tight_layout()\n",
    "plt.show()"
   ]
  },
  {
   "cell_type": "code",
   "execution_count": 5,
   "metadata": {},
   "outputs": [],
   "source": [
    "def sigmoid(z):\n",
    "    # convert input to a numpy array\n",
    "    z = np.array(z)\n",
    "    \n",
    "    # prepare variable g to store the value of sigmoid function of z\n",
    "    g = np.zeros(z.shape)\n",
    "    \n",
    "    # sigmoid function\n",
    "    g = 1 / (1 + np.exp(-z))\n",
    "    return g"
   ]
  },
  {
   "cell_type": "code",
   "execution_count": 12,
   "metadata": {},
   "outputs": [],
   "source": [
    "def costFunction(theta, X, y):\n",
    "    # write down the cost function and gradient for logistic regression.\n",
    "    m = len(y)\n",
    "    prb = sigmoid(np.dot(X,theta))\n",
    "    cost = -(1/m) * np.sum(y * np.log(prb) + (1-y) * np.log(1-prb))\n",
    "    return cost"
   ]
  },
  {
   "cell_type": "code",
   "execution_count": 15,
   "metadata": {},
   "outputs": [],
   "source": [
    "def gradDesc(x, y, theta, alpha, iter, list):\n",
    "    m = y.size\n",
    "    xt = x.transpose()\n",
    "    for i in range(0, iter):\n",
    "        h = np.dot(x, theta)\n",
    "        loss = h - y\n",
    "        cost = np.sum(loss**2)/(2*m)\n",
    "        print(\"Iteration %d | Cost: %f\" % (i, cost))\n",
    "        gradient = np.dot(xt, loss)/m\n",
    "        theta = theta - (alpha * gradient)\n",
    "        list.append(theta)\n",
    "    return theta"
   ]
  },
  {
   "cell_type": "code",
   "execution_count": 16,
   "metadata": {},
   "outputs": [
    {
     "name": "stdout",
     "output_type": "stream",
     "text": [
      "Iteration 0 | Cost: 0.887500\n",
      "Iteration 1 | Cost: 0.834768\n",
      "Iteration 2 | Cost: 0.786615\n",
      "Iteration 3 | Cost: 0.742641\n",
      "Iteration 4 | Cost: 0.702484\n",
      "Iteration 5 | Cost: 0.665810\n",
      "Iteration 6 | Cost: 0.632318\n",
      "Iteration 7 | Cost: 0.601729\n",
      "Iteration 8 | Cost: 0.573792\n",
      "Iteration 9 | Cost: 0.548276\n",
      "Iteration 10 | Cost: 0.524970\n",
      "Iteration 11 | Cost: 0.503682\n",
      "Iteration 12 | Cost: 0.484236\n",
      "Iteration 13 | Cost: 0.466473\n",
      "Iteration 14 | Cost: 0.450245\n",
      "Iteration 15 | Cost: 0.435419\n",
      "Iteration 16 | Cost: 0.421873\n",
      "Iteration 17 | Cost: 0.409496\n",
      "Iteration 18 | Cost: 0.398185\n",
      "Iteration 19 | Cost: 0.387849\n",
      "Iteration 20 | Cost: 0.378403\n",
      "Iteration 21 | Cost: 0.369768\n",
      "Iteration 22 | Cost: 0.361875\n",
      "Iteration 23 | Cost: 0.354659\n",
      "Iteration 24 | Cost: 0.348061\n",
      "Iteration 25 | Cost: 0.342027\n",
      "Iteration 26 | Cost: 0.336508\n",
      "Iteration 27 | Cost: 0.331459\n",
      "Iteration 28 | Cost: 0.326840\n",
      "Iteration 29 | Cost: 0.322613\n",
      "Iteration 30 | Cost: 0.318744\n",
      "Iteration 31 | Cost: 0.315202\n",
      "Iteration 32 | Cost: 0.311958\n",
      "Iteration 33 | Cost: 0.308987\n",
      "Iteration 34 | Cost: 0.306264\n",
      "Iteration 35 | Cost: 0.303768\n",
      "Iteration 36 | Cost: 0.301480\n",
      "Iteration 37 | Cost: 0.299381\n",
      "Iteration 38 | Cost: 0.297455\n",
      "Iteration 39 | Cost: 0.295687\n",
      "Iteration 40 | Cost: 0.294063\n",
      "Iteration 41 | Cost: 0.292570\n",
      "Iteration 42 | Cost: 0.291197\n",
      "Iteration 43 | Cost: 0.289935\n",
      "Iteration 44 | Cost: 0.288772\n",
      "Iteration 45 | Cost: 0.287701\n",
      "Iteration 46 | Cost: 0.286713\n",
      "Iteration 47 | Cost: 0.285801\n",
      "Iteration 48 | Cost: 0.284959\n",
      "Iteration 49 | Cost: 0.284181\n",
      "Iteration 50 | Cost: 0.283460\n",
      "Iteration 51 | Cost: 0.282793\n",
      "Iteration 52 | Cost: 0.282174\n",
      "Iteration 53 | Cost: 0.281599\n",
      "Iteration 54 | Cost: 0.281064\n",
      "Iteration 55 | Cost: 0.280566\n",
      "Iteration 56 | Cost: 0.280102\n",
      "Iteration 57 | Cost: 0.279669\n",
      "Iteration 58 | Cost: 0.279264\n",
      "Iteration 59 | Cost: 0.278884\n",
      "Iteration 60 | Cost: 0.278528\n",
      "Iteration 61 | Cost: 0.278193\n",
      "Iteration 62 | Cost: 0.277877\n",
      "Iteration 63 | Cost: 0.277579\n",
      "Iteration 64 | Cost: 0.277298\n",
      "Iteration 65 | Cost: 0.277032\n",
      "Iteration 66 | Cost: 0.276779\n",
      "Iteration 67 | Cost: 0.276538\n",
      "Iteration 68 | Cost: 0.276309\n",
      "Iteration 69 | Cost: 0.276090\n",
      "Iteration 70 | Cost: 0.275881\n",
      "Iteration 71 | Cost: 0.275680\n",
      "Iteration 72 | Cost: 0.275487\n",
      "Iteration 73 | Cost: 0.275301\n",
      "Iteration 74 | Cost: 0.275122\n",
      "Iteration 75 | Cost: 0.274949\n",
      "Iteration 76 | Cost: 0.274782\n",
      "Iteration 77 | Cost: 0.274619\n",
      "Iteration 78 | Cost: 0.274461\n",
      "Iteration 79 | Cost: 0.274307\n",
      "Iteration 80 | Cost: 0.274158\n",
      "Iteration 81 | Cost: 0.274011\n",
      "Iteration 82 | Cost: 0.273868\n",
      "Iteration 83 | Cost: 0.273728\n",
      "Iteration 84 | Cost: 0.273590\n",
      "Iteration 85 | Cost: 0.273455\n",
      "Iteration 86 | Cost: 0.273323\n",
      "Iteration 87 | Cost: 0.273192\n",
      "Iteration 88 | Cost: 0.273063\n",
      "Iteration 89 | Cost: 0.272936\n",
      "Iteration 90 | Cost: 0.272810\n",
      "Iteration 91 | Cost: 0.272686\n",
      "Iteration 92 | Cost: 0.272564\n",
      "Iteration 93 | Cost: 0.272442\n",
      "Iteration 94 | Cost: 0.272322\n",
      "Iteration 95 | Cost: 0.272203\n",
      "Iteration 96 | Cost: 0.272084\n",
      "Iteration 97 | Cost: 0.271967\n",
      "Iteration 98 | Cost: 0.271850\n",
      "Iteration 99 | Cost: 0.271734\n",
      "Theta found by gradient descent: 0.1605, 0.0446\n"
     ]
    }
   ],
   "source": [
    "theta = np.zeros(2)\n",
    "iterations = 100 # iterations to find the optimal theta\n",
    "alpha = 0.001\n",
    "cost_list = []\n",
    "theta = gradDesc(X_train, y_train, theta, alpha, iterations, cost_list)\n",
    "print('Theta found by gradient descent: {:.4f}, {:.4f}'.format(*theta))"
   ]
  },
  {
   "cell_type": "code",
   "execution_count": 17,
   "metadata": {},
   "outputs": [
    {
     "name": "stdout",
     "output_type": "stream",
     "text": [
      "with theta = [0,0] \n",
      "Cost computed = 0.17\n"
     ]
    }
   ],
   "source": [
    "J = costFunction(theta, X_train,y_train)\n",
    "print(\"with theta = [0,0] \\nCost computed = %.2f\" % J)"
   ]
  },
  {
   "cell_type": "code",
   "execution_count": 23,
   "metadata": {},
   "outputs": [
    {
     "data": {
      "text/plain": [
       "Text(0, 0.5, 'cost function')"
      ]
     },
     "execution_count": 23,
     "metadata": {},
     "output_type": "execute_result"
    },
    {
     "data": {
      "image/png": "[encoded data removed]",
      "text/plain": [
       "<Figure size 432x288 with 1 Axes>"
      ]
     },
     "metadata": {
      "needs_background": "light"
     },
     "output_type": "display_data"
    }
   ],
   "source": [
    "plt.plot(cost_list)\n",
    "plt.xlabel(\"iteration\")\n",
    "plt.ylabel(\"cost function\")"
   ]
  },
  {
   "cell_type": "code",
   "execution_count": null,
   "metadata": {},
   "outputs": [],
   "source": []
  },
  {
   "cell_type": "code",
   "execution_count": 41,
   "metadata": {
    "scrolled": true
   },
   "outputs": [],
   "source": [
    "def accuracy(theta, X):\n",
    "    pred = X.dot(theta)\n",
    "    return pred>0"
   ]
  },
  {
   "cell_type": "code",
   "execution_count": 64,
   "metadata": {},
   "outputs": [
    {
     "name": "stdout",
     "output_type": "stream",
     "text": [
      "Accuracy: 50 %\n"
     ]
    }
   ],
   "source": [
    "acc = accuracy(theta, X)\n",
    "print(\"Accuracy:\", sum(acc==y), \"%\")"
   ]
  }
 ],
 "metadata": {
  "kernelspec": {
   "display_name": "Python 3",
   "language": "python",
   "name": "python3"
  },
  "language_info": {
   "codemirror_mode": {
    "name": "ipython",
    "version": 3
   },
   "file_extension": ".py",
   "mimetype": "text/x-python",
   "name": "python",
   "nbconvert_exporter": "python",
   "pygments_lexer": "ipython3",
   "version": "3.7.3"
  }
 },
 "nbformat": 4,
 "nbformat_minor": 2
}
