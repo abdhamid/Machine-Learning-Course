{
 "cells": [
  {
   "cell_type": "markdown",
   "metadata": {},
   "source": [
    "# UTS Pembelajaran Mesin (Ilmu Komputer Kelas A, B dan IUP) 2019/2020\n",
    "## Tanggal Pengumpulan: 9 April 2020 jam 6.00\n",
    "## Nama/NIM: Ahmad Alwarid / 17/409424/PA/17731\n",
    "## Kelas: A\n",
    "## Total Score: 40\n",
    "## Submit pada assignment kelas masing-masing dengan nama file UTS_Nama\n",
    "\n",
    "### Petunjuk soal\n",
    "Lengkapi kode implementasi Neural Network di bawah ini. <br>\n",
    "Perhatikan score untuk tiap bagian kode <br>\n",
    "Sertakan penjelasan singkat (dalam bentuk markdown) untuk tiap function yang ditulis\n"
   ]
  },
  {
   "cell_type": "code",
   "execution_count": 1,
   "metadata": {},
   "outputs": [],
   "source": [
    "import numpy as np\n",
    "import matplotlib.pyplot as plt"
   ]
  },
  {
   "cell_type": "code",
   "execution_count": 2,
   "metadata": {},
   "outputs": [],
   "source": [
    "# fungsi ini digunakan untuk membaca dataset yang berupa csv file\n",
    "# expected_output: data dalam bentuk list\n",
    "# score: 2\n",
    "\n",
    "from csv import reader\n",
    "def load_csv(filename):\n",
    "    dataset = list()\n",
    "    # Read file\n",
    "    with open(filename, 'r') as file:\n",
    "        csv_reader = reader(file)\n",
    "        for row in csv_reader:\n",
    "            if not row:\n",
    "                continue\n",
    "            # memasukkan tiap row ke list dataset\n",
    "            dataset.append(row)\n",
    "    return dataset"
   ]
  },
  {
   "cell_type": "code",
   "execution_count": 3,
   "metadata": {},
   "outputs": [],
   "source": [
    "# Perhatikan data csv, data yang diberikan masih dalam bentuk string\n",
    "# Buat fungsi untuk meng-convert feature (X) ke dalam float, dan target (Y) ke dalam integer\n",
    "# note: pada dataset yang diberikan, target ada pada kolom terakhir\n",
    "# note: kode boleh dibuat dalam 2 fungsi (seperti contoh di bawah)  atau 1 fungsi saja.\n",
    "# expected_output: matrix X (feature)  dan vector Y (target), \n",
    "# score: 4\n",
    "\n",
    "def str_feature_to_float(dataset):\n",
    "    X = list()\n",
    "    for i in range(len(dataset)):\n",
    "        row = []\n",
    "        for j in range(len(dataset[0])-1):\n",
    "            # Konversi tiap nilai x ke float\n",
    "            row.append(float(dataset[i][j]))\n",
    "        X.append(row)\n",
    "    return X\n",
    "\n",
    "def str_target_to_integer(dataset):\n",
    "    Y = list()\n",
    "    last_row_idx = len(dataset[0])-1\n",
    "    for i in range(len(dataset)):\n",
    "        # Konversi tiap nilai y ke integer\n",
    "        # last_row_idx karena target berada di akhir row\n",
    "        Y.append(int(dataset[i][last_row_idx]))\n",
    "    return Y"
   ]
  },
  {
   "cell_type": "code",
   "execution_count": 87,
   "metadata": {},
   "outputs": [],
   "source": [
    "# split data ke train dan test (baik untuk X maupun Y), dengan komposisi training size:80%, test size: 20%\n",
    "# boleh menggunakan fungsi dari scikit learn\n",
    "# expected_output: X_train, X_test, Y_train, Y_test \n",
    "# score: 2\n",
    "from sklearn.model_selection import train_test_split\n",
    "\n",
    "def train_test (X, Y):\n",
    "    # Split dataset train dan test dengan perbandingan 8:2\n",
    "    X_train, X_test, Y_train, Y_test = train_test_split(X, Y, test_size = 0.2, random_state = 0)\n",
    "    return X_train, X_test, Y_train, Y_test\n"
   ]
  },
  {
   "cell_type": "code",
   "execution_count": 5,
   "metadata": {},
   "outputs": [],
   "source": [
    "# ubah target (Y_train dan Y_test) ke dalam bentuk representasi one_hot_encoding\n",
    "# hint: gunakan np.eye dari Numpy\n",
    "# expected_output: target dalam bentuk one_hot_encoded\n",
    "# score: 2\n",
    "\n",
    "def one_hot_encoding (target):\n",
    "    # Setiap target dikurangi 1 agar hasil one hot encoding pas 3 kolom\n",
    "    target = np.array(target)-1\n",
    "    target_encoded = np.eye(N = len(target), M = 3, dtype = int)[target]\n",
    "    return target_encoded"
   ]
  },
  {
   "cell_type": "code",
   "execution_count": 78,
   "metadata": {},
   "outputs": [],
   "source": [
    "# Asumsikan bahwa ada 3 layer pada Neural Network yaitu input layer, hidden layer dan output layer\n",
    "# set n_inputs dengan banyaknya fitur, n_hidden dengan 20 dan n_outputs dengan jumlah kelas\n",
    "# inisialisasi network parameter (Theta_1: parameter dari input ke hidden) \n",
    "# dan (Theta_2: parameter dari hidden ke output) dengan random number\n",
    "# hint: Perhatikan dimensi dari Theta_1 dan Theta_2, jangan lupa ada parameter bias.\n",
    "# expected_output: Theta_1 dan Theta_2 yang sudah diinisialisasi\n",
    "# score: 2\n",
    "\n",
    "from random import seed\n",
    "from random import random\n",
    "seed(1)\n",
    " \n",
    "def initialize_network(inputs, hidden, outputs):\n",
    "    input_len = len(inputs)\n",
    "    hidden_len = len(hidden)\n",
    "    output_len = len(outputs)\n",
    "    \n",
    "    Theta_1 = np.zeros((hidden_len, input_len))\n",
    "    Theta_2 = np.zeros((output_len, hidden_len))\n",
    "    \n",
    "    # Theta_1 merupakan Theta antara input dan hidden layer\n",
    "    # Theta_1[0][1] merupakan weight penghubung input[1] ke hidden_layer[0]\n",
    "    # Theta_2 merupakan Theta antara hidden layer dan output\n",
    "    # Theta_2[0][1] merupakan weight penghubung hidden_layer[1] ke output[0]\n",
    "    for i in range(hidden_len):\n",
    "        for j in range(input_len):\n",
    "            Theta_1[i][j] = random()\n",
    "    for j in range(output_len):\n",
    "        for k in range(hidden_len):\n",
    "            Theta_2[j][k] = random()\n",
    "    return Theta_1, Theta_2"
   ]
  },
  {
   "cell_type": "code",
   "execution_count": 7,
   "metadata": {},
   "outputs": [],
   "source": [
    "# Tuliskan fungsi untuk regularized cost function dari Neural Network (J) \n",
    "# Set lambda (regularisation parameter ke 0.8)\n",
    "# expected_output: cost value\n",
    "# score: 2\n",
    "\n",
    "def cost_function(Theta, x, y):\n",
    "    # tuliskan kode anda disini\n",
    "    lamb = 0.8\n",
    "    m = len(inputs)\n",
    "    k = len(outputs)\n",
    "    # hipotesis dari x\n",
    "    hx = sigmoid_function(x)\n",
    "    # Cost sesuai fungsi cost neural network\n",
    "    J = -1/m * (np.multiply(np.log(hx), y) + np.multiply(np.log(1-hx), 1-y)) + lamb/2*m*np.sum(Theta**2)\n",
    "    return J"
   ]
  },
  {
   "cell_type": "code",
   "execution_count": 8,
   "metadata": {},
   "outputs": [],
   "source": [
    "# Tuliskan fungsi sigmoid\n",
    "# fungsi ini harus bisa menerima input baik berupa matrix, vector maupun scalar \n",
    "# expected_output: sigmoid value (untuk setiap elemen pada matrix/vector) \n",
    "# score: 2\n",
    "\n",
    "def sigmoid_function(z):\n",
    "    # Sesuai fungsi sigmoid\n",
    "    z = np.array(z)\n",
    "    # membuat array baru sesuai shape z\n",
    "    sigmoid_value = np.zeros(z.shape)\n",
    "    # kemudian memasukkan nilai hasil fungsi sigmoid dengan parameter dari elemen pada z\n",
    "    sigmoid_value = 1 / (1 + np.exp(-z))\n",
    "    return sigmoid_value #(bisa dalam bentuk matrix/vector/scalar)"
   ]
  },
  {
   "cell_type": "code",
   "execution_count": 9,
   "metadata": {},
   "outputs": [],
   "source": [
    "# Tuliskan fungsi gradient/derivatif dari sigmoid function\n",
    "# fungsi ini harus bisa menerima input baik berupa matrix, vector maupun scalar \n",
    "# expected_output: gradient sigmoid value (untuk setiap elemen pada matrix/vector)\n",
    "# score: 2\n",
    "\n",
    "def gradient_sigmoid_function(z):\n",
    "    # fungsi ini sesuai turunan fungsi sigmoid\n",
    "    sigmoid_value = sigmoid_function(z)\n",
    "    gradient_sigmoid_value = sigmoid_value * (1 - sigmoid_value)\n",
    "    return gradient_sigmoid_value  #(bisa dalam bentuk matrix/vector/scalar)"
   ]
  },
  {
   "cell_type": "code",
   "execution_count": 111,
   "metadata": {},
   "outputs": [],
   "source": [
    "# Tuliskan fungsi forward propagation\n",
    "# expected_output: a(2) output dari hidden layer dan a(3) output dari output layer\n",
    "# hint: lihat slide NN part 1 mengenai forward propagation untuk detail cara menghitungnya\n",
    "# note: pada layer 1 (input) dan layer 2 (hidden layer) terdapat bias yang nilainya di set sama dengan 1\n",
    "# score: 4\n",
    "\n",
    "def forward_propagation(Theta, inputs):\n",
    "    # tuliskan kode anda disini\n",
    "    a2 = np.zeros(len(hidden))\n",
    "    a3 = np.zeros(len(Y_train[0]))\n",
    "    for j in range(len(a2)):\n",
    "        # j menunjukkan hidden layer tujuan, Theta[0][j] berarti array parameter dari input ke node j pada hidden layer\n",
    "        # a2[j] bernilai sigmoid dengan parameter penjumlahan semua input dikali weight yang menuju hidden ke-j\n",
    "        a2[j] = sigmoid_function(np.sum(np.multiply(inputs, Theta[0][j])))\n",
    "    for j in range(len(a3)):\n",
    "        # j menunjukkan hidden layer tujuan, Theta[1][j] berarti array parameter dari input ke node j pada output layer\n",
    "        # a3[j] bernilai sigmoid dengan parameter penjumlahan semua nilai hidden layer dikali weight yang menuju output ke-j\n",
    "        a3[j] = sigmoid_function(np.sum(np.multiply(a2[j], Theta[1][j])))\n",
    "    a = np.array((a2, a3))\n",
    "    return a\n",
    "\n",
    "# inputs = X_train[0]\n",
    "# target = Y_train[0]\n",
    "# a = forward_propagation(Theta, inputs, hidden, outputs)\n",
    "# print(a)"
   ]
  },
  {
   "cell_type": "code",
   "execution_count": 11,
   "metadata": {},
   "outputs": [
    {
     "ename": "NameError",
     "evalue": "name 'a' is not defined",
     "output_type": "error",
     "traceback": [
      "\u001b[1;31m---------------------------------------------------------------------------\u001b[0m",
      "\u001b[1;31mNameError\u001b[0m                                 Traceback (most recent call last)",
      "\u001b[1;32m<ipython-input-11-a4703f7f2e19>\u001b[0m in \u001b[0;36m<module>\u001b[1;34m\u001b[0m\n\u001b[0;32m     24\u001b[0m \u001b[1;31m# gradient_a[0] = np.zeros(len(a[0]))\u001b[0m\u001b[1;33m\u001b[0m\u001b[1;33m\u001b[0m\u001b[1;33m\u001b[0m\u001b[0m\n\u001b[0;32m     25\u001b[0m \u001b[1;31m# gradient_a[1] = np.zeros(len(a[1]))\u001b[0m\u001b[1;33m\u001b[0m\u001b[1;33m\u001b[0m\u001b[1;33m\u001b[0m\u001b[0m\n\u001b[1;32m---> 26\u001b[1;33m \u001b[0mtest\u001b[0m \u001b[1;33m=\u001b[0m \u001b[0mback_propagation\u001b[0m\u001b[1;33m(\u001b[0m\u001b[0ma\u001b[0m\u001b[1;33m,\u001b[0m \u001b[0mTheta\u001b[0m\u001b[1;33m,\u001b[0m \u001b[0minputs\u001b[0m\u001b[1;33m,\u001b[0m \u001b[0mone_hot_encoding\u001b[0m\u001b[1;33m(\u001b[0m\u001b[0mY_train\u001b[0m\u001b[1;33m)\u001b[0m\u001b[1;33m[\u001b[0m\u001b[1;36m0\u001b[0m\u001b[1;33m]\u001b[0m\u001b[1;33m)\u001b[0m\u001b[1;33m\u001b[0m\u001b[1;33m\u001b[0m\u001b[0m\n\u001b[0m",
      "\u001b[1;31mNameError\u001b[0m: name 'a' is not defined"
     ]
    }
   ],
   "source": [
    "# Tuliskan fungsi back propagation untuk menghitung eror dan update parameter dengan algoritma gradient descent\n",
    "# expected_output: parameter update\n",
    "# hint: lihat slide NN part 2 mengenai back propagation untuk detail cara menghitungnya\n",
    "# note: parameter bias tidak termasuk yang dikenai regularisasi\n",
    "# note: parameter harus di update secara simultan (ingat lagi dibagian gradient descent)\n",
    "# score: 4\n",
    "\n",
    "def back_propagation(a,Theta,x,y):\n",
    "    # tuliskan kode anda disini\n",
    "    delta = 0\n",
    "    d3 = a[1] - y\n",
    "    d2 = np.zeros(len(hidden))\n",
    "    \n",
    "    gradient_a = np.array([a[0], a[1]])\n",
    "    for i in range(len(gradient_a)):\n",
    "        for j in range(len(gradient_a[i])):\n",
    "            # j menunjukkan hidden layer tujuan, Theta[0][j] berarti array parameter dari input ke node j pada hidden layer\n",
    "            gradient_a[i][j] = np.sum(np.multiply(inputs, Theta[0][j]))\n",
    "        gradient_a[i] = gradient_sigmoid_function(gradient_a[i])\n",
    "        \n",
    "    for i in range(d2):\n",
    "        d2[i] = np.sum(np.transpose(Theta[1][i])*d3[i]*gradient_a[0])\n",
    "        \n",
    "    return d2\n",
    "\n",
    "#Tidak selesai karena bingung"
   ]
  },
  {
   "cell_type": "code",
   "execution_count": 104,
   "metadata": {},
   "outputs": [],
   "source": [
    "# Tuliskan kode (tidak harus dalam bentuk fungsi) untuk melakukan training terhadap NN\n",
    "# expected_output: parameter Theta_1 dan Theta_2 yang telah ditraining/update sebanyak 100 kali iterasi\n",
    "# note: Theta_1 dan Theta_2 merupakan matrix\n",
    "# score: 4\n",
    "\n",
    "learning_rate = 0.001\n",
    "epoch = 100\n",
    "\n",
    "#load dataset\n",
    "dataset = load_csv('exam_data.csv')\n",
    "datasetx = str_feature_to_float(dataset)\n",
    "datasety = str_target_to_integer(dataset)\n",
    "\n",
    "X_train, X_test, Y_train, Y_test = train_test(datasetx, datasety)\n",
    "X_train = np.array(X_train)\n",
    "Y_train = one_hot_encoding(Y_train)\n",
    "X_test = np.array(X_test)\n",
    "Y_test = one_hot_encoding(Y_test)\n",
    "\n",
    "hidden = np.zeros(20)\n",
    "\n",
    "#init parameter theta\n",
    "Theta = initialize_network(inputs, hidden, outputs)\n",
    "\n",
    "costs = list()\n",
    "\n",
    "for i in range (100):\n",
    "    # Setiap iterasi memakai data X_train sebagai input dan Y_train sebagai output\n",
    "    for j in range(len(X_train)):\n",
    "        inputs = X_train[j]\n",
    "        outputs = Y_train[j]\n",
    "        a = forward_propagation(Theta, inputs, outputs)\n",
    "        error_delta = back_propagation(a, Theta, inputs, outputs)\n",
    "    cost_func = cost_function(Theta, inputs, outputs)\n",
    "    costs.append(cost_func)\n",
    "    \n",
    "#Tidak selesai karena bingung"
   ]
  },
  {
   "cell_type": "code",
   "execution_count": 135,
   "metadata": {},
   "outputs": [
    {
     "name": "stdout",
     "output_type": "stream",
     "text": [
      "0\n",
      "42\n",
      "0.0\n"
     ]
    }
   ],
   "source": [
    "# Evaluasi/testing dengan melakukan prediksi pada data test\n",
    "# hint: untuk melakukan prediksi, gunakan fungsi forward_propagation dengan parameter Theta_1 dan Theta_2 \n",
    "# yang telah diperoleh dari training, jangan lupa target berupa one hot encoded, probability yang dihasilkan \n",
    "# dari layer output dibulatkan (round), jika >= 0.5 ke 1 dan jika < 0.5 ke 0\n",
    "# tuliskan fungsi untuk menghitung akurasi (total prediksi benar dibagi total data)\n",
    "# expected_output: akurasi\n",
    "# score: 4\n",
    "\n",
    "def calculate_accuracy(prediction, target):\n",
    "    correct_pred = 0\n",
    "    total = 0\n",
    "    \n",
    "    #looping untuk setiap prediksi output, yaitu a[1].\n",
    "    #a[1][i] = target dari input ke-i yang merupakan one hot encoding\n",
    "    #setiap data pada a[1][i] dibandingkan dengan setiap data pada target[i]\n",
    "    for i in range(len(prediction)):\n",
    "        total = total + 1\n",
    "        # Asumsikan correct_prediction selalu bertambah 1 tiap pengecekan\n",
    "        correct_pred = correct_pred+1\n",
    "        for j in range(len(prediction[0])):\n",
    "            if(prediction[i][j] > 0.5):\n",
    "                prediction[i][j] = 1\n",
    "            else:\n",
    "                prediction[i][j] = 0\n",
    "                \n",
    "            # Jika terdapat salah satu dari tiga output yg salah dari input x, maka correct_pred dikurangi 1 alias tidak bertambah\n",
    "            if(prediction[i][j] != target[i][j]):\n",
    "                correct_pred = correct_pred-1\n",
    "                break\n",
    "    print(correct_pred)\n",
    "    print(total)\n",
    "    accuracy = correct_pred/total\n",
    "    return accuracy\n",
    "\n",
    "prediction = np.zeros(Y_test.shape)\n",
    "for i in range(len(prediction)):\n",
    "    prediction[i] = forward_propagation(Theta, X_test[i])[1]\n",
    "    \n",
    "print(calculate_accuracy(prediction, Y_test))"
   ]
  },
  {
   "cell_type": "code",
   "execution_count": 142,
   "metadata": {},
   "outputs": [
    {
     "data": {
      "image/png": "[encoded data removed]",
      "text/plain": [
       "<Figure size 432x288 with 1 Axes>"
      ]
     },
     "metadata": {
      "needs_background": "light"
     },
     "output_type": "display_data"
    }
   ],
   "source": [
    "# plot cost function value untuk tiap iterasi/epoch pada step training dengan menggunakan matplotlib, \n",
    "# dan buat analisis singkat apakah model NN yang didevelop \n",
    "# sudah baik atau masih perlu modifikasi/improvement.\n",
    "# score: 6\n",
    "\n",
    "# Ini hanya untuk init random cost function karena codingan back_propagation error dan mungkin belum benar serta tidak selesai\n",
    "costs = list()\n",
    "for i in range(100):\n",
    "    costs.append(sigmoid_function(random()))\n",
    "\n",
    "#data range(100) sebagai sumbu x, data costs sebagai sumbu y\n",
    "plt.plot(range(100), costs)\n",
    "plt.title('Cost Each Iterations')\n",
    "plt.xlabel('Iteration')\n",
    "plt.ylabel('Cost')\n",
    "plt.show()\n",
    "\n",
    "# Analisis\n",
    "\n",
    "# Model NN yang didevelop masih error,\n",
    "# sehingga masih perlu banyak modifikasi"
   ]
  },
  {
   "cell_type": "code",
   "execution_count": null,
   "metadata": {},
   "outputs": [],
   "source": []
  }
 ],
 "metadata": {
  "kernelspec": {
   "display_name": "Python 3",
   "language": "python",
   "name": "python3"
  },
  "language_info": {
   "codemirror_mode": {
    "name": "ipython",
    "version": 3
   },
   "file_extension": ".py",
   "mimetype": "text/x-python",
   "name": "python",
   "nbconvert_exporter": "python",
   "pygments_lexer": "ipython3",
   "version": "3.7.3"
  }
 },
 "nbformat": 4,
 "nbformat_minor": 2
}
